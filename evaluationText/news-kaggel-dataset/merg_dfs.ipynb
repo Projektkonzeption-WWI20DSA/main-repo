{
 "cells": [
  {
   "cell_type": "code",
   "execution_count": 2,
   "metadata": {},
   "outputs": [],
   "source": [
    "import pandas as pd"
   ]
  },
  {
   "cell_type": "code",
   "execution_count": null,
   "metadata": {},
   "outputs": [],
   "source": [
    "df0 = pd.read_csv('articles1.csv')\n",
    "df1 = pd.read_csv('articles1.csv')\n",
    "df2 = pd.read_csv('articles1.csv')\n",
    "\n",
    "\n",
    "dateien = [df0, df1, df2]\n",
    "\n",
    "for info_df in dateien:\n",
    "    print(info_df.info())"
   ]
  },
  {
   "cell_type": "code",
   "execution_count": 17,
   "metadata": {},
   "outputs": [],
   "source": [
    "df_merged = pd.DataFrame()\n",
    "columns_to_delete = ['Unnamed: 0', 'id', 'publication', 'author', 'date', 'year', 'month', 'url']\n",
    "\n",
    "dateien = ['articles1.csv', 'articles1.csv','articles1.csv']\n",
    "for datei in dateien:\n",
    "    df = pd.read_csv(datei)\n",
    "    df = df.drop(columns_to_delete, axis=1)\n",
    "\n",
    "    df_merged = pd.concat([df_merged, df], ignore_index=True)\n",
    "\n",
    "# df_merged.to_csv('all_articles.csv', index=False)"
   ]
  },
  {
   "cell_type": "code",
   "execution_count": 18,
   "metadata": {},
   "outputs": [],
   "source": [
    "df_test_merged = pd.read_csv('all_articles.csv')"
   ]
  },
  {
   "cell_type": "code",
   "execution_count": 19,
   "metadata": {},
   "outputs": [
    {
     "name": "stdout",
     "output_type": "stream",
     "text": [
      "<class 'pandas.core.frame.DataFrame'>\n",
      "RangeIndex: 150000 entries, 0 to 149999\n",
      "Data columns (total 2 columns):\n",
      " #   Column   Non-Null Count   Dtype \n",
      "---  ------   --------------   ----- \n",
      " 0   title    150000 non-null  object\n",
      " 1   content  150000 non-null  object\n",
      "dtypes: object(2)\n",
      "memory usage: 2.3+ MB\n"
     ]
    }
   ],
   "source": [
    "df_test_merged.info()"
   ]
  },
  {
   "cell_type": "code",
   "execution_count": 3,
   "metadata": {},
   "outputs": [
    {
     "name": "stdout",
     "output_type": "stream",
     "text": [
      "<class 'pandas.core.frame.DataFrame'>\n",
      "RangeIndex: 150000 entries, 0 to 149999\n",
      "Data columns (total 2 columns):\n",
      " #   Column   Non-Null Count   Dtype \n",
      "---  ------   --------------   ----- \n",
      " 0   title    150000 non-null  object\n",
      " 1   content  150000 non-null  object\n",
      "dtypes: object(2)\n",
      "memory usage: 2.3+ MB\n"
     ]
    }
   ],
   "source": [
    "df_all_articles = pd.read_csv(\"all_articles.csv\")\n",
    "df_all_articles.info()"
   ]
  }
 ],
 "metadata": {
  "kernelspec": {
   "display_name": "projektRealisierung",
   "language": "python",
   "name": "python3"
  },
  "language_info": {
   "codemirror_mode": {
    "name": "ipython",
    "version": 3
   },
   "file_extension": ".py",
   "mimetype": "text/x-python",
   "name": "python",
   "nbconvert_exporter": "python",
   "pygments_lexer": "ipython3",
   "version": "3.11.4"
  },
  "orig_nbformat": 4
 },
 "nbformat": 4,
 "nbformat_minor": 2
}
