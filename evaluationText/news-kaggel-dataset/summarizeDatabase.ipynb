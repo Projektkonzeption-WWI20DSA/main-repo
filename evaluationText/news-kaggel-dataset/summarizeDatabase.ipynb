{
 "cells": [
  {
   "cell_type": "code",
   "execution_count": 1,
   "metadata": {},
   "outputs": [
    {
     "name": "stderr",
     "output_type": "stream",
     "text": [
      "/home/hostage/anaconda3/envs/projektRealisierung/lib/python3.11/site-packages/tqdm/auto.py:21: TqdmWarning: IProgress not found. Please update jupyter and ipywidgets. See https://ipywidgets.readthedocs.io/en/stable/user_install.html\n",
      "  from .autonotebook import tqdm as notebook_tqdm\n"
     ]
    }
   ],
   "source": [
    "import pandas as pd\n",
    "from summarizer import Summarizer"
   ]
  },
  {
   "cell_type": "code",
   "execution_count": null,
   "metadata": {},
   "outputs": [],
   "source": [
    "df = pd.read_csv('10000_articles.csv')\n",
    "bert_model = Summarizer()"
   ]
  },
  {
   "cell_type": "code",
   "execution_count": null,
   "metadata": {},
   "outputs": [],
   "source": [
    "row = 0\n",
    "def bert_summerizer(text, compression = 0.5):\n",
    "    global row\n",
    "    row += 1\n",
    "    print(\"row:\\t\", row)\n",
    "    return  bert_model(text, ratio= compression)\n",
    "\n",
    "df['summarizedText'] = df['content'].apply(bert_summerizer)"
   ]
  },
  {
   "cell_type": "code",
   "execution_count": null,
   "metadata": {},
   "outputs": [],
   "source": [
    "df.head()"
   ]
  },
  {
   "cell_type": "code",
   "execution_count": null,
   "metadata": {},
   "outputs": [],
   "source": [
    "df.info()"
   ]
  },
  {
   "cell_type": "code",
   "execution_count": null,
   "metadata": {},
   "outputs": [],
   "source": [
    "df.to_csv('sum_10000_articles.csv', index=False)"
   ]
  },
  {
   "cell_type": "code",
   "execution_count": 2,
   "metadata": {},
   "outputs": [],
   "source": [
    "sum_df= pd.read_csv('sum_10000_articles.csv')\n"
   ]
  },
  {
   "cell_type": "code",
   "execution_count": 3,
   "metadata": {},
   "outputs": [
    {
     "name": "stdout",
     "output_type": "stream",
     "text": [
      "<class 'pandas.core.frame.DataFrame'>\n",
      "RangeIndex: 1000 entries, 0 to 999\n",
      "Data columns (total 3 columns):\n",
      " #   Column          Non-Null Count  Dtype \n",
      "---  ------          --------------  ----- \n",
      " 0   title           1000 non-null   object\n",
      " 1   content         1000 non-null   object\n",
      " 2   summarizedText  999 non-null    object\n",
      "dtypes: object(3)\n",
      "memory usage: 23.6+ KB\n"
     ]
    }
   ],
   "source": [
    "sum_df"
   ]
  },
  {
   "cell_type": "code",
   "execution_count": 5,
   "metadata": {},
   "outputs": [
    {
     "name": "stdout",
     "output_type": "stream",
     "text": [
      "                   title                                content summarizedText\n",
      "870  4 Years - Breitbart  Andrew Breitbart, 1969  —   2012[#WAR            NaN\n"
     ]
    }
   ],
   "source": [
    "null_mask = sum_df.isnull()\n",
    "\n",
    "# Filter the DataFrame using the mask to display rows with null values\n",
    "df_with_nulls = sum_df[null_mask.any(axis=1)]\n",
    "\n",
    "# Display the rows with null values\n",
    "print(df_with_nulls)"
   ]
  },
  {
   "cell_type": "code",
   "execution_count": 10,
   "metadata": {},
   "outputs": [
    {
     "data": {
      "text/plain": [
       "'David Cameron announced he will resign from the House of Commons with immediate effect this afternoon. [ Mr Cameron, who served as Prime Minister until July this year, has been Member of Parliament for Witney in Oxfordshire since 2001. Mr Cameron also claimed it would be hard not be “an enormous diversion and distraction” from Mrs May if he remains in Parliament. The former Prime Minister was heavily criticised for awarding honours to close allies after leaving Downing Street, and faced the prospect of having to support Theresa May’s policy of allowing the creation of new grammar schools  —   a policy that he had strongly resisted during his time as leader of the Conservative Party.'"
      ]
     },
     "execution_count": 10,
     "metadata": {},
     "output_type": "execute_result"
    }
   ],
   "source": [
    "sum_df[\"summarizedText\"].loc[2]"
   ]
  },
  {
   "cell_type": "code",
   "execution_count": 9,
   "metadata": {},
   "outputs": [
    {
     "data": {
      "text/plain": [
       "'David Cameron announced he will resign from the House of Commons with immediate effect this afternoon. [Mr Cameron, who served as Prime Minister until July this year, has been Member of Parliament for Witney in Oxfordshire since 2001.  He said it was time to “build a life outside of parliament” after quitting as Prime Minister in the wake of the Brexit vote, adding that he informed his successor Theresa May of his decision this afternoon. Mr Cameron also claimed it would be hard not be “an enormous diversion and distraction” from Mrs May if he remains in Parliament. His resignation will now trigger a   in Witney, which will serve as Mrs May’s first electoral test as Prime Minister. As the seat is considered very safe Conservative, however, it is highly unlikely there will be an upset. The former Prime Minister was heavily criticised for awarding honours to close allies after leaving Downing Street, and faced the prospect of having to support Theresa May’s policy of allowing the creation of new grammar schools  —   a policy that he had strongly resisted during his time as leader of the Conservative Party. More follows'"
      ]
     },
     "execution_count": 9,
     "metadata": {},
     "output_type": "execute_result"
    }
   ],
   "source": [
    "sum_df[\"content\"].loc[2]"
   ]
  },
  {
   "cell_type": "code",
   "execution_count": 11,
   "metadata": {},
   "outputs": [],
   "source": [
    "def count_words(text):\n",
    "    words = text.split()\n",
    "    return len(words)\n"
   ]
  },
  {
   "cell_type": "code",
   "execution_count": 13,
   "metadata": {},
   "outputs": [
    {
     "name": "stdout",
     "output_type": "stream",
     "text": [
      "Anzahl der Wörter: 191\n"
     ]
    }
   ],
   "source": [
    "word_count = count_words(sum_df[\"content\"].loc[2])\n",
    "print(\"Anzahl der Wörter:\", word_count)"
   ]
  },
  {
   "cell_type": "code",
   "execution_count": 14,
   "metadata": {},
   "outputs": [
    {
     "name": "stdout",
     "output_type": "stream",
     "text": [
      "Anzahl der Wörter: 115\n"
     ]
    }
   ],
   "source": [
    "word_count = count_words(sum_df[\"summarizedText\"].loc[2])\n",
    "print(\"Anzahl der Wörter:\", word_count)"
   ]
  }
 ],
 "metadata": {
  "kernelspec": {
   "display_name": "projektRealisierung",
   "language": "python",
   "name": "python3"
  },
  "language_info": {
   "codemirror_mode": {
    "name": "ipython",
    "version": 3
   },
   "file_extension": ".py",
   "mimetype": "text/x-python",
   "name": "python",
   "nbconvert_exporter": "python",
   "pygments_lexer": "ipython3",
   "version": "3.11.4"
  },
  "orig_nbformat": 4
 },
 "nbformat": 4,
 "nbformat_minor": 2
}
