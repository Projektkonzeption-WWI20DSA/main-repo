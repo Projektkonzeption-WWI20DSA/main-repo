{
 "cells": [
  {
   "cell_type": "code",
   "execution_count": 1,
   "metadata": {},
   "outputs": [
    {
     "ename": "AttributeError",
     "evalue": "module 'pickle' has no attribute '__version__'",
     "output_type": "error",
     "traceback": [
      "\u001b[0;31m---------------------------------------------------------------------------\u001b[0m",
      "\u001b[0;31mAttributeError\u001b[0m                            Traceback (most recent call last)",
      "Cell \u001b[0;32mIn[1], line 2\u001b[0m\n\u001b[1;32m      1\u001b[0m \u001b[39mimport\u001b[39;00m \u001b[39mpickle\u001b[39;00m\n\u001b[0;32m----> 2\u001b[0m pickle\u001b[39m.\u001b[39;49m__version__\n",
      "\u001b[0;31mAttributeError\u001b[0m: module 'pickle' has no attribute '__version__'"
     ]
    }
   ],
   "source": []
  },
  {
   "cell_type": "code",
   "execution_count": 1,
   "metadata": {},
   "outputs": [],
   "source": [
    "import joblib"
   ]
  },
  {
   "cell_type": "code",
   "execution_count": 2,
   "metadata": {},
   "outputs": [],
   "source": [
    "model = joblib.load('trained_model.joblib')\n"
   ]
  },
  {
   "cell_type": "code",
   "execution_count": 8,
   "metadata": {},
   "outputs": [],
   "source": [
    "text = [\"\"\"Ich weiß, eine Sekunde googeln ist anstrengender als grenzenloser Menschenhass. Und man kann ja mit nem Kommentar so schön zeigen, dass man gegen diese sagenumwobene linksgrüne Diktatur ist blablabla.\n",
    "\n",
    "Jetzt wisst ihr, wo es rausgeht. Wenn ihr hier zusätzlich nicht mehr schreiben können wollt, einfach eine dm an die Modmails schicken.\n",
    "\n",
    "Und kleiner Reminder: Wenn ihr etwas gegen nicht weiße, nicht heterosexuelle, nicht cisgender, nicht männliche, nicht christliche, nicht deutsche, geistig/körperlich beeinträchtigte und/oder nicht nationalistische/patriotistische Menschen habt, fallt ihr für uns unter diese Kategorie. Interessiert uns einen scheiß, ob ihr nen Satz mit \"Ich bin (eigentlich) ja kein Nazi\" anfangt.\n",
    "\n",
    "An alle, die das nicht betrifft: Ich wünsche euch nen angenehmen Tag.\n",
    "\n",
    "Der Inhalt dieses Posts wurde ohne Absprache mit dem Rest des Mod-Teams verfasst, widerspricht jedoch in keinster Weise unseren Regeln und unserem Verhalten.\"\"\"]"
   ]
  },
  {
   "cell_type": "code",
   "execution_count": 9,
   "metadata": {},
   "outputs": [],
   "source": [
    "predicted_classes = model.predict(text)"
   ]
  },
  {
   "cell_type": "code",
   "execution_count": 10,
   "metadata": {},
   "outputs": [
    {
     "data": {
      "text/plain": [
       "array(['reddit'], dtype=object)"
      ]
     },
     "execution_count": 10,
     "metadata": {},
     "output_type": "execute_result"
    }
   ],
   "source": [
    "predicted_classes"
   ]
  }
 ],
 "metadata": {
  "kernelspec": {
   "display_name": "Python 3",
   "language": "python",
   "name": "python3"
  },
  "language_info": {
   "codemirror_mode": {
    "name": "ipython",
    "version": 3
   },
   "file_extension": ".py",
   "mimetype": "text/x-python",
   "name": "python",
   "nbconvert_exporter": "python",
   "pygments_lexer": "ipython3",
   "version": "3.11.4"
  },
  "orig_nbformat": 4
 },
 "nbformat": 4,
 "nbformat_minor": 2
}
