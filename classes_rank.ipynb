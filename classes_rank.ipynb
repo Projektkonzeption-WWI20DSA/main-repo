{
 "cells": [
  {
   "cell_type": "markdown",
   "metadata": {},
   "source": [
    "## Classification model output (Adding more information)\n",
    "\n",
    "I have a model trained and stores with joblib. It is saved as \"trained_model.joblib\" The purpose of it is to predict or classify texts into different categories. I now further want it to additionally give be a ranking and percentage of classes that the text might be<br>\n",
    "\n",
    "To achieve the additional functionality of getting a ranking and percentage of the classes that the text might belong to, you can follow these steps: <br>\n",
    "\n",
    "Load the trained model from the \"trained_model.joblib\" file.\n",
    "Use the loaded model to make predictions on the input text.\n",
    "Obtain the probabilities for each class from the model's prediction.\n",
    "Sort the classes based on their probabilities to get a ranking.\n",
    "Calculate the percentage of certainty for each class based on their probabilities."
   ]
  },
  {
   "cell_type": "code",
   "execution_count": 1,
   "metadata": {},
   "outputs": [],
   "source": [
    "import joblib\n",
    "import numpy as np\n"
   ]
  },
  {
   "cell_type": "code",
   "execution_count": 2,
   "metadata": {},
   "outputs": [],
   "source": [
    "\n",
    "# Load the trained model\n",
    "loaded_model = joblib.load(\"trained_model.joblib\")\n",
    "\n"
   ]
  },
  {
   "cell_type": "code",
   "execution_count": 3,
   "metadata": {},
   "outputs": [],
   "source": [
    "# Define a function to get the ranking and percentage of classes for a given text\n",
    "def predict_with_ranking(text):\n",
    "    # Make prediction using the loaded model\n",
    "    probabilities = loaded_model.predict_proba([text])[0]\n",
    "\n",
    "    # Get the class labels from the loaded model\n",
    "    classes = loaded_model.classes_\n",
    "\n",
    "    # Sort the probabilities and classes in descending order to get the ranking\n",
    "    sorted_indices = np.argsort(probabilities)[::-1]\n",
    "    sorted_probabilities = probabilities[sorted_indices]\n",
    "    sorted_classes = classes[sorted_indices]\n",
    "\n",
    "    # Calculate the percentage of certainty for each class\n",
    "    total_probability = np.sum(sorted_probabilities)\n",
    "    percentages = (sorted_probabilities / total_probability) * 100\n",
    "\n",
    "    # Create a dictionary with the class and its corresponding probability percentage\n",
    "    class_percentage_dict = {class_label: percentage for class_label, percentage in zip(sorted_classes, percentages)}\n",
    "\n",
    "    return class_percentage_dict\n",
    "\n"
   ]
  },
  {
   "cell_type": "code",
   "execution_count": 5,
   "metadata": {},
   "outputs": [
    {
     "name": "stdout",
     "output_type": "stream",
     "text": [
      "Class: abstract, Probability: 39.36%\n",
      "Class: blog, Probability: 30.17%\n",
      "Class: article, Probability: 17.69%\n",
      "Class: reddit, Probability: 5.91%\n",
      "Class: twitter, Probability: 3.64%\n",
      "Class: legal, Probability: 1.67%\n",
      "Class: movie, Probability: 1.57%\n"
     ]
    }
   ],
   "source": [
    "# Test with an example text\n",
    "example_text = \"\"\"The development of light detection and ranging, Radar, camera, and other advanced sensor technologies inaugurated a new era in autonomous driving. However, due to the intrinsic limitations of these sensors, autonomous vehicles are prone to making erroneous decisions and causing serious disasters. At this point, networking and communication technologies can greatly make up for sensor deficiencies, and are more reliable, feasible and efficient to promote the information interaction, thereby improving autonomous vehicle's perception and planning capabilities as well as realizing better vehicle control. This paper surveys the networking and communication technologies in autonomous driving from two aspects: intra- and inter-vehicle. The intra-vehicle network as the basis of realizing autonomous driving connects the on-board electronic parts. The inter-vehicle network is the medium for interaction between vehicles and outside information. In addition, we present the new trends of communication technologies in autonomous driving, as well as investigate the current mainstream verification methods and emphasize the challenges and open issues of networking and communications in autonomous driving.\"\"\"\n",
    "class_percentages = predict_with_ranking(example_text)\n",
    "\n",
    "# Print the results\n",
    "for class_label, percentage in class_percentages.items():\n",
    "    print(f\"Class: {class_label}, Probability: {percentage:.2f}%\")"
   ]
  }
 ],
 "metadata": {
  "kernelspec": {
   "display_name": "Python 3",
   "language": "python",
   "name": "python3"
  },
  "language_info": {
   "codemirror_mode": {
    "name": "ipython",
    "version": 3
   },
   "file_extension": ".py",
   "mimetype": "text/x-python",
   "name": "python",
   "nbconvert_exporter": "python",
   "pygments_lexer": "ipython3",
   "version": "3.9.4"
  },
  "orig_nbformat": 4
 },
 "nbformat": 4,
 "nbformat_minor": 2
}
