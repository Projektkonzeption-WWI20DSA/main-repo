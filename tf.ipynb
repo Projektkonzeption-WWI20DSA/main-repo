{
 "cells": [
  {
   "cell_type": "code",
   "execution_count": 1,
   "metadata": {},
   "outputs": [],
   "source": [
    "import pandas as pd\n",
    "import tensorflow as tf\n",
    "import random\n",
    "\n",
    "from sklearn.model_selection import train_test_split\n",
    "from sklearn.preprocessing import LabelEncoder\n",
    "from tensorflow.keras.models import Sequential\n",
    "from tensorflow.keras.layers import Dense, Embedding, LSTM, Dropout\n",
    "from tensorflow.keras.preprocessing.text import Tokenizer\n",
    "from tensorflow.keras.preprocessing.sequence import pad_sequences\n",
    "from tensorflow.keras.models import load_model"
   ]
  },
  {
   "cell_type": "code",
   "execution_count": 5,
   "metadata": {},
   "outputs": [],
   "source": [
    "# Load the data\n",
    "df = pd.read_csv(\"./balenced_data.csv\")  # Replace with the path to your DataFrame\n",
    "texts = df['text'].values\n",
    "labels = df['Source'].values"
   ]
  },
  {
   "cell_type": "code",
   "execution_count": 6,
   "metadata": {},
   "outputs": [],
   "source": [
    "# Convert the labels to numerical values\n",
    "label_encoder = LabelEncoder()\n",
    "labels = label_encoder.fit_transform(labels)"
   ]
  },
  {
   "cell_type": "code",
   "execution_count": 7,
   "metadata": {},
   "outputs": [],
   "source": [
    "# Split the data into training and testing sets\n",
    "texts_train, texts_test, labels_train, labels_test = train_test_split(texts, labels, test_size=0.2, random_state=42)\n",
    "\n",
    "# Tokenize the texts\n",
    "tokenizer = Tokenizer()\n",
    "tokenizer.fit_on_texts(texts_train)\n",
    "\n",
    "# Convert text sequences to numerical sequences\n",
    "sequences_train = tokenizer.texts_to_sequences(texts_train)\n",
    "sequences_test = tokenizer.texts_to_sequences(texts_test)\n",
    "\n",
    "# Pad the sequences to ensure equal length\n",
    "max_seq_length = 100 #max(len(seq) for seq in sequences_train)\n",
    "sequences_train = pad_sequences(sequences_train, maxlen=max_seq_length)\n",
    "sequences_test = pad_sequences(sequences_test, maxlen=max_seq_length)"
   ]
  },
  {
   "cell_type": "code",
   "execution_count": 5,
   "metadata": {},
   "outputs": [],
   "source": [
    "# Create TensorFlow datasets\n",
    "train_dataset = tf.data.Dataset.from_tensor_slices((sequences_train, labels_train))\n",
    "test_dataset = tf.data.Dataset.from_tensor_slices((sequences_test, labels_test))\n",
    "\n",
    "# Apply data pipeline optimizations\n",
    "train_dataset = train_dataset.shuffle(len(sequences_train)).batch(16).prefetch(tf.data.AUTOTUNE)\n",
    "test_dataset = test_dataset.batch(16).prefetch(tf.data.AUTOTUNE)"
   ]
  },
  {
   "cell_type": "code",
   "execution_count": 6,
   "metadata": {},
   "outputs": [],
   "source": [
    "# Define the model\n",
    "vocab_size = len(tokenizer.word_index) + 1\n",
    "embedding_dim = 50 #100\n",
    "\n",
    "model = Sequential()\n",
    "model.add(Embedding(vocab_size, embedding_dim, input_length=max_seq_length))\n",
    "model.add(LSTM(64, dropout=0.2, recurrent_dropout=0.2))\n",
    "model.add(Dense(64, activation='relu'))\n",
    "model.add(Dropout(0.5))\n",
    "model.add(Dense(len(label_encoder.classes_), activation='softmax'))"
   ]
  },
  {
   "cell_type": "code",
   "execution_count": 7,
   "metadata": {},
   "outputs": [],
   "source": [
    "# Compile the models\n",
    "model.compile(loss='sparse_categorical_crossentropy', optimizer='adam', metrics=['accuracy'])"
   ]
  },
  {
   "cell_type": "code",
   "execution_count": 8,
   "metadata": {},
   "outputs": [
    {
     "name": "stdout",
     "output_type": "stream",
     "text": [
      "Epoch 1/10\n",
      "1169/1169 [==============================] - 171s 145ms/step - loss: 0.7136 - accuracy: 0.7073 - val_loss: 0.2570 - val_accuracy: 0.9181\n",
      "Epoch 2/10\n",
      "1169/1169 [==============================] - 168s 144ms/step - loss: 0.2379 - accuracy: 0.9307 - val_loss: 0.2065 - val_accuracy: 0.9285\n",
      "Epoch 3/10\n",
      "1169/1169 [==============================] - 168s 143ms/step - loss: 0.1291 - accuracy: 0.9645 - val_loss: 0.2119 - val_accuracy: 0.9373\n",
      "Epoch 4/10\n",
      "1169/1169 [==============================] - 168s 144ms/step - loss: 0.0775 - accuracy: 0.9774 - val_loss: 0.2275 - val_accuracy: 0.9377\n",
      "Epoch 5/10\n",
      "1169/1169 [==============================] - 168s 144ms/step - loss: 0.0536 - accuracy: 0.9845 - val_loss: 0.3651 - val_accuracy: 0.9191\n",
      "Epoch 6/10\n",
      "1169/1169 [==============================] - 168s 144ms/step - loss: 0.0454 - accuracy: 0.9880 - val_loss: 0.3814 - val_accuracy: 0.9014\n",
      "Epoch 7/10\n",
      "1169/1169 [==============================] - 168s 144ms/step - loss: 0.0370 - accuracy: 0.9897 - val_loss: 0.3302 - val_accuracy: 0.9307\n",
      "Epoch 8/10\n",
      "1169/1169 [==============================] - 168s 143ms/step - loss: 0.0172 - accuracy: 0.9961 - val_loss: 0.3982 - val_accuracy: 0.9311\n",
      "Epoch 9/10\n",
      "1169/1169 [==============================] - 168s 143ms/step - loss: 0.0157 - accuracy: 0.9952 - val_loss: 0.3780 - val_accuracy: 0.9275\n",
      "Epoch 10/10\n",
      "1169/1169 [==============================] - 167s 143ms/step - loss: 0.0193 - accuracy: 0.9955 - val_loss: 0.4071 - val_accuracy: 0.9283\n"
     ]
    },
    {
     "data": {
      "text/plain": [
       "<keras.callbacks.History at 0x1a7659c2bc0>"
      ]
     },
     "execution_count": 8,
     "metadata": {},
     "output_type": "execute_result"
    }
   ],
   "source": [
    "# Train the model\n",
    "model.fit(train_dataset, epochs=10, validation_data=test_dataset)"
   ]
  },
  {
   "cell_type": "code",
   "execution_count": 2,
   "metadata": {},
   "outputs": [],
   "source": [
    "# Define the file path for saving / loading the model\n",
    "model_path = './models/nn.h5'"
   ]
  },
  {
   "cell_type": "code",
   "execution_count": null,
   "metadata": {},
   "outputs": [],
   "source": [
    "# Save the trained model\n",
    "model.save(model_path)\n",
    "\n",
    "print(\"Model saved successfully.\")"
   ]
  },
  {
   "cell_type": "code",
   "execution_count": 9,
   "metadata": {},
   "outputs": [
    {
     "name": "stdout",
     "output_type": "stream",
     "text": [
      "Model loaded successfully.\n"
     ]
    }
   ],
   "source": [
    "# Load the saved model\n",
    "model = load_model(model_path)\n",
    "\n",
    "print(\"Model loaded successfully.\")"
   ]
  },
  {
   "cell_type": "code",
   "execution_count": 19,
   "metadata": {},
   "outputs": [
    {
     "name": "stdout",
     "output_type": "stream",
     "text": [
      "1/1 [==============================] - 0s 19ms/step\n",
      "Text: You guys make me laugh. What do you think? All you need is my number? OK, it's 06 12 23 23 41. You'l\n",
      "True Label: movie\n",
      "Predicted Label: blog\n"
     ]
    }
   ],
   "source": [
    "# Select a random index from the test dataset\n",
    "random_index = random.randint(0, len(sequences_test) - 1)\n",
    "\n",
    "# Get the text, true label, and corresponding predicted label at the random index\n",
    "random_text = texts_test[random_index]\n",
    "true_label = labels_test[random_index]\n",
    "\n",
    "# Preprocess the random text\n",
    "random_sequence = tokenizer.texts_to_sequences([random_text])\n",
    "random_sequence = pad_sequences(random_sequence, maxlen=max_seq_length)\n",
    "\n",
    "# Perform prediction on the preprocessed random text\n",
    "prediction = model.predict(random_sequence)\n",
    "predicted_label = label_encoder.inverse_transform(prediction.argmax(axis=1))\n",
    "\n",
    "# Print the first 100 symbols of the text, true label, and predicted class\n",
    "print(\"Text:\", random_text[:100])\n",
    "print(\"True Label:\", label_encoder.inverse_transform([true_label])[0])\n",
    "print(\"Predicted Label:\", predicted_label[0])"
   ]
  }
 ],
 "metadata": {
  "kernelspec": {
   "display_name": "main-repo-JTgMCYnz",
   "language": "python",
   "name": "python3"
  },
  "language_info": {
   "codemirror_mode": {
    "name": "ipython",
    "version": 3
   },
   "file_extension": ".py",
   "mimetype": "text/x-python",
   "name": "python",
   "nbconvert_exporter": "python",
   "pygments_lexer": "ipython3",
   "version": "3.10.11"
  },
  "orig_nbformat": 4
 },
 "nbformat": 4,
 "nbformat_minor": 2
}
