{
 "cells": [
  {
   "attachments": {},
   "cell_type": "markdown",
   "metadata": {},
   "source": [
    "TODO:\n",
    "- [ ] change sentence_num to length_percentage"
   ]
  },
  {
   "cell_type": "code",
   "execution_count": 10,
   "metadata": {},
   "outputs": [],
   "source": [
    "import spacy\n",
    "import networkx as nx\n",
    "import numpy as np\n",
    "\n",
    "nlp = spacy.load(\"en_core_web_md\")"
   ]
  },
  {
   "cell_type": "code",
   "execution_count": 2,
   "metadata": {},
   "outputs": [],
   "source": [
    "text_to_sum = \"WASHINGTON - The Trump administration has ordered the military to start withdrawing roughly 7,000 troops from Afghanistan in the coming months, two defense officials said Thursday, an abrupt shift in the 17-year-old war there and a decision that stunned Afghan officials, who said they had not been briefed on the plans. President Trump made the decision to pull the troops - about half the number the United States has in Afghanistan now - at the same time he decided to pull American forces out of Syria, one official said. The announcement came hours after Jim Mattis, the secretary of defense, said that he would resign from his position at the end of February after disagreeing with the president over his approach to policy in the Middle East. The whirlwind of troop withdrawals and the resignation of Mr. Mattis leave a murky picture for what is next in the United States’ longest war, and they come as Afghanistan has been troubled by spasms of violence afflicting the capital, Kabul, and other important areas.  The United States has also been conducting talks with representatives of the Taliban, in what officials have described as discussions that could lead to formal talks to end the conflict. Senior Afghan officials and Western diplomats in Kabul woke up to the shock of the news on Friday morning, and many of them braced for chaos ahead.  Several Afghan officials, often in the loop on security planning and decision-making, said they had received no indication in recent days that the Americans would pull troops out.  The fear that Mr. Trump might take impulsive actions, however, often loomed in the background of discussions with the United States, they said. They saw the abrupt decision as a further sign that voices from the ground were lacking in the debate over the war and that with Mr. Mattis’s resignation, Afghanistan had lost one of the last influential voices in Washington who channeled the reality of the conflict into the White House’s deliberations. The president long campaigned on bringing troops home, but in 2017, at the request of Mr. Mattis, he begrudgingly pledged an additional 4,000 troops to the Afghan campaign to try to hasten an end to the conflict. Though Pentagon officials have said the influx of forces - coupled with a more aggressive air campaign - was helping the war effort, Afghan forces continued to take nearly unsustainable levels of casualties and lose ground to the Taliban. The renewed American effort in 2017 was the first step in ensuring Afghan forces could become more independent without a set timeline for a withdrawal.  But with plans to quickly reduce the number of American troops in the country, it is unclear if the Afghans can hold their own against an increasingly aggressive Taliban. Currently, American airstrikes are at levels not seen since the height of the war, when tens of thousands of American troops were spread throughout the country.  That air support, officials say, consists mostly of propping up Afghan troops while they try to hold territory from a resurgent Taliban.\""
   ]
  },
  {
   "cell_type": "code",
   "execution_count": 3,
   "metadata": {},
   "outputs": [],
   "source": [
    "# sentences = []\n",
    "# for splitted_sentences in doc.sents:\n",
    "#     sentences.append(splitted_sentences.text.strip())\n",
    "# print(len(sentences))"
   ]
  },
  {
   "cell_type": "code",
   "execution_count": 9,
   "metadata": {},
   "outputs": [
    {
     "name": "stdout",
     "output_type": "stream",
     "text": [
      "words_count:  259\n",
      "sum_words_count:\t 165\n",
      "reached compression:\t 36.29\n"
     ]
    }
   ],
   "source": [
    "def summerize (text,sum_percentage):\n",
    "    doc = nlp(text)\n",
    "\n",
    "    sentences = []\n",
    "    for splitted_sentences in doc.sents:\n",
    "        sentences.append(splitted_sentences.text.strip())\n",
    "\n",
    "    sum_length = round(len(sentences) * sum_percentage/100)\n",
    "    if sum_length < 1:\n",
    "        sum_length = 1\n",
    "    lemmatized_sents = []\n",
    "    \n",
    "    words_count = 0\n",
    "    for sentence in sentences:\n",
    "        words = []\n",
    "        for word in nlp(sentence):\n",
    "            if not word.is_stop and not word.is_punct:\n",
    "                words.append(word.lemma_)\n",
    "        lemmatized_sents.append(\" \".join(words))\n",
    "        words_count += len(words)\n",
    "    print(\"words_count: \", words_count)\n",
    "\n",
    "    # Calculate the similarity matrix\n",
    "    similarity_matrix = np.zeros((len(lemmatized_sents), len(lemmatized_sents)))\n",
    "    for i in range(len(lemmatized_sents)):\n",
    "        for j in range(len(lemmatized_sents)):\n",
    "            similarity_matrix[i, j] = nlp(lemmatized_sents[i]).similarity(nlp(lemmatized_sents[j]))\n",
    "\n",
    "    graph = nx.from_numpy_array(similarity_matrix)\n",
    "\n",
    "    # Calculate the PageRank scores\n",
    "    scores = nx.pagerank(graph)\n",
    "\n",
    "\n",
    "    top_sentence_indices = sorted(range(len(scores)), key=lambda i: scores[i], reverse=True)[:sum_length]\n",
    "    summarized_text = [sentences[i] for i in top_sentence_indices]\n",
    "\n",
    "    sum_words_count = 0\n",
    "    for sentence in summarized_text:\n",
    "        for word in nlp(sentence):\n",
    "            if not word.is_stop and not word.is_punct:\n",
    "                sum_words_count += 1\n",
    "    print(\"sum_words_count:\\t\", sum_words_count)\n",
    "    reached_compression = round(100 - (sum_words_count * 100 / words_count), 2)\n",
    "    summarized_text = \" \".join(summarized_text)\n",
    "    print(\"reached compression:\\t\", reached_compression)\n",
    "    return summarized_text\n",
    "\n",
    "# Print the summary\n",
    "summary = summerize(text_to_sum, 50)\n",
    "# print(summary)\n",
    "# print(\" \".join(summary))\n",
    "\n"
   ]
  },
  {
   "cell_type": "code",
   "execution_count": null,
   "metadata": {},
   "outputs": [],
   "source": [
    "def build_similarity_matrix(sentences,stop_words):\n",
    "  #create an empty similarity matrix\n",
    "    similarity_matrix = np.zeros((len(sentences),len(sentences)))\n",
    "    for idx1 in range(len(sentences)):\n",
    "        for idx2 in range(len(sentences)):\n",
    "        if idx1!=idx2:\n",
    "            similarity_matrix[idx1][idx2] = sentence_similarity(sentences[idx1],sentences[idx2],stop_words)\n",
    "    return similarity_matrix\n",
    "    # Finally the main function to call all the above function in the pipeline.\n",
    "\n",
    "def generate_summary(text,top_n):\n",
    "  nltk.download('stopwords')    \n",
    "  nltk.download('punkt')\n",
    "  stop_words = stopwords.words('english')    \n",
    "  summarize_text = []\n",
    "  # Step1: read text and tokenize    \n",
    "  sentences = read_article(text)\n",
    "  # Step2: generate similarity matrix            \n",
    "  sentence_similarity_matrix = build_similarity_matrix(sentences,stop_words)\n",
    "  # Step3: Rank sentences in similarity matrix\n",
    "   sentence_similarity_graph = nx.from_numpy_array(sentence_similarity_matrix)\n",
    "   scores = nx.pagerank(sentence_similarity_graph)\n",
    "  # Step4: sort the rank and place top sentences\n",
    "  ranked_sentences = sorted(((scores[i],s) for i,s in enumerate(sentences)),reverse=True)\n",
    "  \n",
    "  # Step5: get the top n number of sentences based on rank\n",
    "  for i in range(top_n):\n",
    "    summarize_text.append(ranked_sentences[i][1])\n",
    "  # Step6 : output the summarized version\n",
    "  return \" \".join(summarize_text),len(sentences)"
   ]
  }
 ],
 "metadata": {
  "kernelspec": {
   "display_name": "Python 3",
   "language": "python",
   "name": "python3"
  },
  "language_info": {
   "codemirror_mode": {
    "name": "ipython",
    "version": 3
   },
   "file_extension": ".py",
   "mimetype": "text/x-python",
   "name": "python",
   "nbconvert_exporter": "python",
   "pygments_lexer": "ipython3",
   "version": "3.11.4"
  },
  "orig_nbformat": 4
 },
 "nbformat": 4,
 "nbformat_minor": 2
}
