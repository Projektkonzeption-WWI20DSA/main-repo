{
 "cells": [
  {
   "attachments": {},
   "cell_type": "markdown",
   "metadata": {},
   "source": [
    "TODO:\n",
    "- [ ] change sentence_num to length_percentage"
   ]
  },
  {
   "cell_type": "code",
   "execution_count": 5,
   "metadata": {},
   "outputs": [],
   "source": [
    "import spacy\n",
    "import networkx as nx\n",
    "import numpy as np\n",
    "import pandas as pd\n",
    "\n",
    "nlp = spacy.load(\"en_core_web_md\")"
   ]
  },
  {
   "cell_type": "code",
   "execution_count": 2,
   "metadata": {},
   "outputs": [],
   "source": [
    "text_to_sum = \"WASHINGTON - The Trump administration has ordered the military to start withdrawing roughly 7,000 troops from Afghanistan in the coming months, two defense officials said Thursday, an abrupt shift in the 17-year-old war there and a decision that stunned Afghan officials, who said they had not been briefed on the plans. President Trump made the decision to pull the troops - about half the number the United States has in Afghanistan now - at the same time he decided to pull American forces out of Syria, one official said. The announcement came hours after Jim Mattis, the secretary of defense, said that he would resign from his position at the end of February after disagreeing with the president over his approach to policy in the Middle East. The whirlwind of troop withdrawals and the resignation of Mr. Mattis leave a murky picture for what is next in the United States’ longest war, and they come as Afghanistan has been troubled by spasms of violence afflicting the capital, Kabul, and other important areas.  The United States has also been conducting talks with representatives of the Taliban, in what officials have described as discussions that could lead to formal talks to end the conflict. Senior Afghan officials and Western diplomats in Kabul woke up to the shock of the news on Friday morning, and many of them braced for chaos ahead.  Several Afghan officials, often in the loop on security planning and decision-making, said they had received no indication in recent days that the Americans would pull troops out.  The fear that Mr. Trump might take impulsive actions, however, often loomed in the background of discussions with the United States, they said. They saw the abrupt decision as a further sign that voices from the ground were lacking in the debate over the war and that with Mr. Mattis’s resignation, Afghanistan had lost one of the last influential voices in Washington who channeled the reality of the conflict into the White House’s deliberations. The president long campaigned on bringing troops home, but in 2017, at the request of Mr. Mattis, he begrudgingly pledged an additional 4,000 troops to the Afghan campaign to try to hasten an end to the conflict. Though Pentagon officials have said the influx of forces - coupled with a more aggressive air campaign - was helping the war effort, Afghan forces continued to take nearly unsustainable levels of casualties and lose ground to the Taliban. The renewed American effort in 2017 was the first step in ensuring Afghan forces could become more independent without a set timeline for a withdrawal.  But with plans to quickly reduce the number of American troops in the country, it is unclear if the Afghans can hold their own against an increasingly aggressive Taliban. Currently, American airstrikes are at levels not seen since the height of the war, when tens of thousands of American troops were spread throughout the country.  That air support, officials say, consists mostly of propping up Afghan troops while they try to hold territory from a resurgent Taliban.\""
   ]
  },
  {
   "cell_type": "code",
   "execution_count": 3,
   "metadata": {},
   "outputs": [],
   "source": [
    "# sentences = []\n",
    "# for splitted_sentences in doc.sents:\n",
    "#     sentences.append(splitted_sentences.text.strip())\n",
    "# print(len(sentences))"
   ]
  },
  {
   "cell_type": "code",
   "execution_count": 8,
   "metadata": {},
   "outputs": [
    {
     "name": "stdout",
     "output_type": "stream",
     "text": [
      "words_count:  259\n",
      "sum_words_count:\t 165\n",
      "reached compression:\t 36.29\n",
      "row:  1\n"
     ]
    }
   ],
   "source": [
    "row = 0\n",
    "def summerize (text,sum_percentage):\n",
    "    doc = nlp(text)\n",
    "\n",
    "    global row\n",
    "    \n",
    "    row += 1\n",
    "    print(\"row: \",row)\n",
    "\n",
    "    sentences = []\n",
    "    for splitted_sentences in doc.sents:\n",
    "        sentences.append(splitted_sentences.text.strip())\n",
    "\n",
    "    sum_length = round(len(sentences) * sum_percentage/100)\n",
    "    if sum_length < 1:\n",
    "        sum_length = 1\n",
    "    lemmatized_sents = []\n",
    "    \n",
    "    words_count = 0\n",
    "    for sentence in sentences:\n",
    "        words = []\n",
    "        for word in nlp(sentence):\n",
    "            if not word.is_stop and not word.is_punct:\n",
    "                words.append(word.lemma_)\n",
    "        lemmatized_sents.append(\" \".join(words))\n",
    "        words_count += len(words)\n",
    "    # print(\"words_count: \", words_count)\n",
    "\n",
    "    # Calculate the similarity matrix\n",
    "    similarity_matrix = np.zeros((len(lemmatized_sents), len(lemmatized_sents)))\n",
    "    for i in range(len(lemmatized_sents)):\n",
    "        for j in range(len(lemmatized_sents)):\n",
    "            similarity_matrix[i, j] = nlp(lemmatized_sents[i]).similarity(nlp(lemmatized_sents[j]))\n",
    "\n",
    "    graph = nx.from_numpy_array(similarity_matrix)\n",
    "\n",
    "    # Calculate the PageRank scores\n",
    "    scores = nx.pagerank(graph)\n",
    "\n",
    "\n",
    "    top_sentence_indices = sorted(range(len(scores)), key=lambda i: scores[i], reverse=True)[:sum_length]\n",
    "    summarized_text = [sentences[i] for i in top_sentence_indices]\n",
    "\n",
    "    sum_words_count = 0\n",
    "    for sentence in summarized_text:\n",
    "        for word in nlp(sentence):\n",
    "            if not word.is_stop and not word.is_punct:\n",
    "                sum_words_count += 1\n",
    "    # print(\"sum_words_count:\\t\", sum_words_count)\n",
    "    reached_compression = round(100 - (sum_words_count * 100 / words_count), 2)\n",
    "    summarized_text = \" \".join(summarized_text)\n",
    "    # print(\"reached compression:\\t\", reached_compression)\n",
    "    \n",
    "    \n",
    "    return summarized_text\n",
    "\n",
    "# Print the summary\n",
    "# summary = summerize(text_to_sum, 50)\n",
    "# print(summary)\n",
    "# print(\" \".join(summary))\n",
    "\n"
   ]
  },
  {
   "cell_type": "code",
   "execution_count": 10,
   "metadata": {},
   "outputs": [],
   "source": [
    "df = pd.read_csv(\"new_sum_1000_articles.csv\")"
   ]
  },
  {
   "cell_type": "code",
   "execution_count": 13,
   "metadata": {},
   "outputs": [
    {
     "data": {
      "text/html": [
       "<div>\n",
       "<style scoped>\n",
       "    .dataframe tbody tr th:only-of-type {\n",
       "        vertical-align: middle;\n",
       "    }\n",
       "\n",
       "    .dataframe tbody tr th {\n",
       "        vertical-align: top;\n",
       "    }\n",
       "\n",
       "    .dataframe thead th {\n",
       "        text-align: right;\n",
       "    }\n",
       "</style>\n",
       "<table border=\"1\" class=\"dataframe\">\n",
       "  <thead>\n",
       "    <tr style=\"text-align: right;\">\n",
       "      <th></th>\n",
       "      <th>title</th>\n",
       "      <th>content</th>\n",
       "      <th>summarizedText</th>\n",
       "      <th>tf_idf_summary</th>\n",
       "    </tr>\n",
       "  </thead>\n",
       "  <tbody>\n",
       "    <tr>\n",
       "      <th>0</th>\n",
       "      <td>Michael Flynn Was Paid to Represent Turkey’s I...</td>\n",
       "      <td>WASHINGTON  —   The candidate he was advising ...</td>\n",
       "      <td>WASHINGTON  —   The candidate he was advising ...</td>\n",
       "      <td>President Trump made the decision to pull the...</td>\n",
       "    </tr>\n",
       "    <tr>\n",
       "      <th>1</th>\n",
       "      <td>Hillary Clinton Crashes Tribeca Film Festival</td>\n",
       "      <td>NEW YORK (AP)  —   The premiere of a virtual r...</td>\n",
       "      <td>NEW YORK (AP)  —   The premiere of a virtual r...</td>\n",
       "      <td>President Trump made the decision to pull the...</td>\n",
       "    </tr>\n",
       "    <tr>\n",
       "      <th>2</th>\n",
       "      <td>Former PM David Cameron Resigns From Parliament</td>\n",
       "      <td>David Cameron announced he will resign from th...</td>\n",
       "      <td>David Cameron announced he will resign from th...</td>\n",
       "      <td>President Trump made the decision to pull the...</td>\n",
       "    </tr>\n",
       "    <tr>\n",
       "      <th>3</th>\n",
       "      <td>Gavin Newsom: Trump’s Election a ’Leap Backwar...</td>\n",
       "      <td>California Lt. Governor Gavin Newsom described...</td>\n",
       "      <td>Governor Gavin Newsom described the election o...</td>\n",
       "      <td>President Trump made the decision to pull the...</td>\n",
       "    </tr>\n",
       "    <tr>\n",
       "      <th>4</th>\n",
       "      <td>Trump to Louisiana Flood Victims: ’When You Hu...</td>\n",
       "      <td>BATON ROUGE, Louisiana  —   In a heartfelt mom...</td>\n",
       "      <td>BATON ROUGE, Louisiana  —   In a heartfelt mom...</td>\n",
       "      <td>President Trump made the decision to pull the...</td>\n",
       "    </tr>\n",
       "  </tbody>\n",
       "</table>\n",
       "</div>"
      ],
      "text/plain": [
       "                                               title  \\\n",
       "0  Michael Flynn Was Paid to Represent Turkey’s I...   \n",
       "1      Hillary Clinton Crashes Tribeca Film Festival   \n",
       "2    Former PM David Cameron Resigns From Parliament   \n",
       "3  Gavin Newsom: Trump’s Election a ’Leap Backwar...   \n",
       "4  Trump to Louisiana Flood Victims: ’When You Hu...   \n",
       "\n",
       "                                             content  \\\n",
       "0  WASHINGTON  —   The candidate he was advising ...   \n",
       "1  NEW YORK (AP)  —   The premiere of a virtual r...   \n",
       "2  David Cameron announced he will resign from th...   \n",
       "3  California Lt. Governor Gavin Newsom described...   \n",
       "4  BATON ROUGE, Louisiana  —   In a heartfelt mom...   \n",
       "\n",
       "                                      summarizedText  \\\n",
       "0  WASHINGTON  —   The candidate he was advising ...   \n",
       "1  NEW YORK (AP)  —   The premiere of a virtual r...   \n",
       "2  David Cameron announced he will resign from th...   \n",
       "3  Governor Gavin Newsom described the election o...   \n",
       "4  BATON ROUGE, Louisiana  —   In a heartfelt mom...   \n",
       "\n",
       "                                      tf_idf_summary  \n",
       "0   President Trump made the decision to pull the...  \n",
       "1   President Trump made the decision to pull the...  \n",
       "2   President Trump made the decision to pull the...  \n",
       "3   President Trump made the decision to pull the...  \n",
       "4   President Trump made the decision to pull the...  "
      ]
     },
     "execution_count": 13,
     "metadata": {},
     "output_type": "execute_result"
    }
   ],
   "source": [
    "df.head()"
   ]
  },
  {
   "cell_type": "code",
   "execution_count": 12,
   "metadata": {},
   "outputs": [
    {
     "name": "stdout",
     "output_type": "stream",
     "text": [
      "words_count:  761\n",
      "sum_words_count:\t 23\n",
      "reached compression:\t 96.98\n",
      "row:  2\n",
      "words_count:  25\n",
      "sum_words_count:\t 20\n",
      "reached compression:\t 20.0\n",
      "row:  3\n",
      "words_count:  98\n",
      "sum_words_count:\t 31\n",
      "reached compression:\t 68.37\n",
      "row:  4\n",
      "words_count:  264\n"
     ]
    },
    {
     "ename": "PowerIterationFailedConvergence",
     "evalue": "(PowerIterationFailedConvergence(...), 'power iteration failed to converge within 100 iterations')",
     "output_type": "error",
     "traceback": [
      "\u001b[0;31m---------------------------------------------------------------------------\u001b[0m",
      "\u001b[0;31mPowerIterationFailedConvergence\u001b[0m           Traceback (most recent call last)",
      "Cell \u001b[0;32mIn[12], line 1\u001b[0m\n\u001b[0;32m----> 1\u001b[0m df[\u001b[39m'\u001b[39m\u001b[39mTextRank_summary\u001b[39m\u001b[39m'\u001b[39m] \u001b[39m=\u001b[39m df[\u001b[39m'\u001b[39;49m\u001b[39mcontent\u001b[39;49m\u001b[39m'\u001b[39;49m]\u001b[39m.\u001b[39;49mapply(\u001b[39mlambda\u001b[39;49;00m x: summerize(x, \u001b[39m0.5\u001b[39;49m))\n",
      "File \u001b[0;32m~/anaconda3/envs/projektRealisierung/lib/python3.11/site-packages/pandas/core/series.py:4630\u001b[0m, in \u001b[0;36mSeries.apply\u001b[0;34m(self, func, convert_dtype, args, **kwargs)\u001b[0m\n\u001b[1;32m   4520\u001b[0m \u001b[39mdef\u001b[39;00m \u001b[39mapply\u001b[39m(\n\u001b[1;32m   4521\u001b[0m     \u001b[39mself\u001b[39m,\n\u001b[1;32m   4522\u001b[0m     func: AggFuncType,\n\u001b[0;32m   (...)\u001b[0m\n\u001b[1;32m   4525\u001b[0m     \u001b[39m*\u001b[39m\u001b[39m*\u001b[39mkwargs,\n\u001b[1;32m   4526\u001b[0m ) \u001b[39m-\u001b[39m\u001b[39m>\u001b[39m DataFrame \u001b[39m|\u001b[39m Series:\n\u001b[1;32m   4527\u001b[0m \u001b[39m    \u001b[39m\u001b[39m\"\"\"\u001b[39;00m\n\u001b[1;32m   4528\u001b[0m \u001b[39m    Invoke function on values of Series.\u001b[39;00m\n\u001b[1;32m   4529\u001b[0m \n\u001b[0;32m   (...)\u001b[0m\n\u001b[1;32m   4628\u001b[0m \u001b[39m    dtype: float64\u001b[39;00m\n\u001b[1;32m   4629\u001b[0m \u001b[39m    \"\"\"\u001b[39;00m\n\u001b[0;32m-> 4630\u001b[0m     \u001b[39mreturn\u001b[39;00m SeriesApply(\u001b[39mself\u001b[39;49m, func, convert_dtype, args, kwargs)\u001b[39m.\u001b[39;49mapply()\n",
      "File \u001b[0;32m~/anaconda3/envs/projektRealisierung/lib/python3.11/site-packages/pandas/core/apply.py:1025\u001b[0m, in \u001b[0;36mSeriesApply.apply\u001b[0;34m(self)\u001b[0m\n\u001b[1;32m   1022\u001b[0m     \u001b[39mreturn\u001b[39;00m \u001b[39mself\u001b[39m\u001b[39m.\u001b[39mapply_str()\n\u001b[1;32m   1024\u001b[0m \u001b[39m# self.f is Callable\u001b[39;00m\n\u001b[0;32m-> 1025\u001b[0m \u001b[39mreturn\u001b[39;00m \u001b[39mself\u001b[39;49m\u001b[39m.\u001b[39;49mapply_standard()\n",
      "File \u001b[0;32m~/anaconda3/envs/projektRealisierung/lib/python3.11/site-packages/pandas/core/apply.py:1076\u001b[0m, in \u001b[0;36mSeriesApply.apply_standard\u001b[0;34m(self)\u001b[0m\n\u001b[1;32m   1074\u001b[0m     \u001b[39melse\u001b[39;00m:\n\u001b[1;32m   1075\u001b[0m         values \u001b[39m=\u001b[39m obj\u001b[39m.\u001b[39mastype(\u001b[39mobject\u001b[39m)\u001b[39m.\u001b[39m_values\n\u001b[0;32m-> 1076\u001b[0m         mapped \u001b[39m=\u001b[39m lib\u001b[39m.\u001b[39;49mmap_infer(\n\u001b[1;32m   1077\u001b[0m             values,\n\u001b[1;32m   1078\u001b[0m             f,\n\u001b[1;32m   1079\u001b[0m             convert\u001b[39m=\u001b[39;49m\u001b[39mself\u001b[39;49m\u001b[39m.\u001b[39;49mconvert_dtype,\n\u001b[1;32m   1080\u001b[0m         )\n\u001b[1;32m   1082\u001b[0m \u001b[39mif\u001b[39;00m \u001b[39mlen\u001b[39m(mapped) \u001b[39mand\u001b[39;00m \u001b[39misinstance\u001b[39m(mapped[\u001b[39m0\u001b[39m], ABCSeries):\n\u001b[1;32m   1083\u001b[0m     \u001b[39m# GH#43986 Need to do list(mapped) in order to get treated as nested\u001b[39;00m\n\u001b[1;32m   1084\u001b[0m     \u001b[39m#  See also GH#25959 regarding EA support\u001b[39;00m\n\u001b[1;32m   1085\u001b[0m     \u001b[39mreturn\u001b[39;00m obj\u001b[39m.\u001b[39m_constructor_expanddim(\u001b[39mlist\u001b[39m(mapped), index\u001b[39m=\u001b[39mobj\u001b[39m.\u001b[39mindex)\n",
      "File \u001b[0;32m~/anaconda3/envs/projektRealisierung/lib/python3.11/site-packages/pandas/_libs/lib.pyx:2834\u001b[0m, in \u001b[0;36mpandas._libs.lib.map_infer\u001b[0;34m()\u001b[0m\n",
      "Cell \u001b[0;32mIn[12], line 1\u001b[0m, in \u001b[0;36m<lambda>\u001b[0;34m(x)\u001b[0m\n\u001b[0;32m----> 1\u001b[0m df[\u001b[39m'\u001b[39m\u001b[39mTextRank_summary\u001b[39m\u001b[39m'\u001b[39m] \u001b[39m=\u001b[39m df[\u001b[39m'\u001b[39m\u001b[39mcontent\u001b[39m\u001b[39m'\u001b[39m]\u001b[39m.\u001b[39mapply(\u001b[39mlambda\u001b[39;00m x: summerize(x, \u001b[39m0.5\u001b[39;49m))\n",
      "Cell \u001b[0;32mIn[8], line 35\u001b[0m, in \u001b[0;36msummerize\u001b[0;34m(text, sum_percentage)\u001b[0m\n\u001b[1;32m     32\u001b[0m graph \u001b[39m=\u001b[39m nx\u001b[39m.\u001b[39mfrom_numpy_array(similarity_matrix)\n\u001b[1;32m     34\u001b[0m \u001b[39m# Calculate the PageRank scores\u001b[39;00m\n\u001b[0;32m---> 35\u001b[0m scores \u001b[39m=\u001b[39m nx\u001b[39m.\u001b[39;49mpagerank(graph)\n\u001b[1;32m     38\u001b[0m top_sentence_indices \u001b[39m=\u001b[39m \u001b[39msorted\u001b[39m(\u001b[39mrange\u001b[39m(\u001b[39mlen\u001b[39m(scores)), key\u001b[39m=\u001b[39m\u001b[39mlambda\u001b[39;00m i: scores[i], reverse\u001b[39m=\u001b[39m\u001b[39mTrue\u001b[39;00m)[:sum_length]\n\u001b[1;32m     39\u001b[0m summarized_text \u001b[39m=\u001b[39m [sentences[i] \u001b[39mfor\u001b[39;00m i \u001b[39min\u001b[39;00m top_sentence_indices]\n",
      "File \u001b[0;32m~/anaconda3/envs/projektRealisierung/lib/python3.11/site-packages/networkx/classes/backends.py:148\u001b[0m, in \u001b[0;36m_dispatch.<locals>.wrapper\u001b[0;34m(*args, **kwds)\u001b[0m\n\u001b[1;32m    144\u001b[0m         \u001b[39melse\u001b[39;00m:\n\u001b[1;32m    145\u001b[0m             \u001b[39mraise\u001b[39;00m NetworkXNotImplemented(\n\u001b[1;32m    146\u001b[0m                 \u001b[39mf\u001b[39m\u001b[39m\"\u001b[39m\u001b[39m'\u001b[39m\u001b[39m{\u001b[39;00mname\u001b[39m}\u001b[39;00m\u001b[39m'\u001b[39m\u001b[39m not implemented by \u001b[39m\u001b[39m{\u001b[39;00mplugin_name\u001b[39m}\u001b[39;00m\u001b[39m\"\u001b[39m\n\u001b[1;32m    147\u001b[0m             )\n\u001b[0;32m--> 148\u001b[0m \u001b[39mreturn\u001b[39;00m func(\u001b[39m*\u001b[39;49margs, \u001b[39m*\u001b[39;49m\u001b[39m*\u001b[39;49mkwds)\n",
      "File \u001b[0;32m~/anaconda3/envs/projektRealisierung/lib/python3.11/site-packages/networkx/algorithms/link_analysis/pagerank_alg.py:110\u001b[0m, in \u001b[0;36mpagerank\u001b[0;34m(G, alpha, personalization, max_iter, tol, nstart, weight, dangling)\u001b[0m\n\u001b[1;32m      9\u001b[0m \u001b[39m@nx\u001b[39m\u001b[39m.\u001b[39m_dispatch\n\u001b[1;32m     10\u001b[0m \u001b[39mdef\u001b[39;00m \u001b[39mpagerank\u001b[39m(\n\u001b[1;32m     11\u001b[0m     G,\n\u001b[0;32m   (...)\u001b[0m\n\u001b[1;32m     18\u001b[0m     dangling\u001b[39m=\u001b[39m\u001b[39mNone\u001b[39;00m,\n\u001b[1;32m     19\u001b[0m ):\n\u001b[1;32m     20\u001b[0m \u001b[39m    \u001b[39m\u001b[39m\"\"\"Returns the PageRank of the nodes in the graph.\u001b[39;00m\n\u001b[1;32m     21\u001b[0m \n\u001b[1;32m     22\u001b[0m \u001b[39m    PageRank computes a ranking of the nodes in the graph G based on\u001b[39;00m\n\u001b[0;32m   (...)\u001b[0m\n\u001b[1;32m    108\u001b[0m \n\u001b[1;32m    109\u001b[0m \u001b[39m    \"\"\"\u001b[39;00m\n\u001b[0;32m--> 110\u001b[0m     \u001b[39mreturn\u001b[39;00m _pagerank_scipy(\n\u001b[1;32m    111\u001b[0m         G, alpha, personalization, max_iter, tol, nstart, weight, dangling\n\u001b[1;32m    112\u001b[0m     )\n",
      "File \u001b[0;32m~/anaconda3/envs/projektRealisierung/lib/python3.11/site-packages/networkx/algorithms/link_analysis/pagerank_alg.py:500\u001b[0m, in \u001b[0;36m_pagerank_scipy\u001b[0;34m(G, alpha, personalization, max_iter, tol, nstart, weight, dangling)\u001b[0m\n\u001b[1;32m    498\u001b[0m     \u001b[39mif\u001b[39;00m err \u001b[39m<\u001b[39m N \u001b[39m*\u001b[39m tol:\n\u001b[1;32m    499\u001b[0m         \u001b[39mreturn\u001b[39;00m \u001b[39mdict\u001b[39m(\u001b[39mzip\u001b[39m(nodelist, \u001b[39mmap\u001b[39m(\u001b[39mfloat\u001b[39m, x)))\n\u001b[0;32m--> 500\u001b[0m \u001b[39mraise\u001b[39;00m nx\u001b[39m.\u001b[39mPowerIterationFailedConvergence(max_iter)\n",
      "\u001b[0;31mPowerIterationFailedConvergence\u001b[0m: (PowerIterationFailedConvergence(...), 'power iteration failed to converge within 100 iterations')"
     ]
    }
   ],
   "source": [
    "df['TextRank_summary'] = df['content'].apply(lambda x: summerize(x, 0.5))"
   ]
  },
  {
   "cell_type": "code",
   "execution_count": null,
   "metadata": {},
   "outputs": [],
   "source": [
    "# def build_similarity_matrix(sentences,stop_words):\n",
    "#   #create an empty similarity matrix\n",
    "#     similarity_matrix = np.zeros((len(sentences),len(sentences)))\n",
    "#     for idx1 in range(len(sentences)):\n",
    "#         for idx2 in range(len(sentences)):\n",
    "#         if idx1!=idx2:\n",
    "#             similarity_matrix[idx1][idx2] = sentence_similarity(sentences[idx1],sentences[idx2],stop_words)\n",
    "#     return similarity_matrix\n",
    "#     # Finally the main function to call all the above function in the pipeline.\n",
    "\n",
    "# def generate_summary(text,top_n):\n",
    "#   nltk.download('stopwords')    \n",
    "#   nltk.download('punkt')\n",
    "#   stop_words = stopwords.words('english')    \n",
    "#   summarize_text = []\n",
    "#   # Step1: read text and tokenize    \n",
    "#   sentences = read_article(text)\n",
    "#   # Step2: generate similarity matrix            \n",
    "#   sentence_similarity_matrix = build_similarity_matrix(sentences,stop_words)\n",
    "#   # Step3: Rank sentences in similarity matrix\n",
    "#    sentence_similarity_graph = nx.from_numpy_array(sentence_similarity_matrix)\n",
    "#    scores = nx.pagerank(sentence_similarity_graph)\n",
    "#   # Step4: sort the rank and place top sentences\n",
    "#   ranked_sentences = sorted(((scores[i],s) for i,s in enumerate(sentences)),reverse=True)\n",
    "  \n",
    "#   # Step5: get the top n number of sentences based on rank\n",
    "#   for i in range(top_n):\n",
    "#     summarize_text.append(ranked_sentences[i][1])\n",
    "#   # Step6 : output the summarized version\n",
    "#   return \" \".join(summarize_text),len(sentences)"
   ]
  }
 ],
 "metadata": {
  "kernelspec": {
   "display_name": "Python 3",
   "language": "python",
   "name": "python3"
  },
  "language_info": {
   "codemirror_mode": {
    "name": "ipython",
    "version": 3
   },
   "file_extension": ".py",
   "mimetype": "text/x-python",
   "name": "python",
   "nbconvert_exporter": "python",
   "pygments_lexer": "ipython3",
   "version": "3.11.4"
  },
  "orig_nbformat": 4
 },
 "nbformat": 4,
 "nbformat_minor": 2
}
